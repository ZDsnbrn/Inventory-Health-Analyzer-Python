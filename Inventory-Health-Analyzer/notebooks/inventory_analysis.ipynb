{
 "cells": [
  {
   "cell_type": "markdown",
   "id": "f650d7fe",
   "metadata": {},
   "source": [
    "# 📦 Inventory Health Analyzer + Reorder Alert System\n",
    "This notebook analyzes inventory data from AstroDynamics and flags critical SKUs based on reorder thresholds, risk flags, and KPI logic."
   ]
  },
  {
   "cell_type": "code",
   "execution_count": null,
   "id": "c486b90c",
   "metadata": {},
   "outputs": [],
   "source": [
    "# ✅ Step 1: Import Libraries\n",
    "import pandas as pd\n",
    "import numpy as np\n",
    "import matplotlib.pyplot as plt\n",
    "import seaborn as sns\n",
    "from datetime import datetime\n",
    "import warnings\n",
    "warnings.filterwarnings('ignore')"
   ]
  },
  {
   "cell_type": "code",
   "execution_count": null,
   "id": "da88d73e",
   "metadata": {},
   "outputs": [],
   "source": [
    "# ✅ Step 2: Load Dataset\n",
    "df = pd.read_csv('../data/AstroDynamicsCleaned_Dataset.csv')\n",
    "df.head()"
   ]
  },
  {
   "cell_type": "markdown",
   "id": "b7d35c2d",
   "metadata": {},
   "source": [
    "Next step: We will calculate Days of Supply, Reorder Triggers, and identify critical SKUs."
   ]
  },
  {
   "cell_type": "markdown",
   "id": "a76ec9e9",
   "metadata": {},
   "source": [
    "## 📊 Step 3: Calculate KPIs and Inventory Health Metrics"
   ]
  },
  {
   "cell_type": "code",
   "execution_count": null,
   "id": "f30e2ab2",
   "metadata": {},
   "outputs": [],
   "source": [
    "# Days of Supply = CURRENT STOCK / AVG DAILY USAGE\n",
    "df['DAYS_OF_SUPPLY'] = df['CURRENT STOCK'] / df['AVG DAILY USAGE']"
   ]
  },
  {
   "cell_type": "code",
   "execution_count": null,
   "id": "3e912940",
   "metadata": {},
   "outputs": [],
   "source": [
    "# Inventory Turnover = (AVG DAILY USAGE * 365) / AVERAGE INVENTORY\n",
    "# For simplification, we approximate average inventory as CURRENT STOCK / 2\n",
    "df['INVENTORY_TURNOVER'] = (df['AVG DAILY USAGE'] * 365) / (df['CURRENT STOCK'] / 2)"
   ]
  },
  {
   "cell_type": "markdown",
   "id": "14eca5a8",
   "metadata": {},
   "source": [
    "## 🚨 Step 4: Flag Critical Inventory"
   ]
  },
  {
   "cell_type": "code",
   "execution_count": null,
   "id": "758b979d",
   "metadata": {},
   "outputs": [],
   "source": [
    "# Flag if inventory is below reorder point\n",
    "df['REORDER_ALERT'] = df['CURRENT STOCK'] <= df['REORDER POINT ']\n",
    "df['CRITICAL_ALERT'] = (df['STATUS FLAG'] == 'CRITICAL') | (df['SUPPLY GAP FLAG'] == 'UNDERORDERED')"
   ]
  },
  {
   "cell_type": "code",
   "execution_count": null,
   "id": "656a6e16",
   "metadata": {},
   "outputs": [],
   "source": [
    "# Filter critical SKUs\n",
    "critical_df = df[df['CRITICAL_ALERT'] == True][[\n",
    "    'PART NUMBER', 'PART NAME', 'CURRENT STOCK', 'REORDER POINT ',\n",
    "    'SAFETY STOCK', 'DAYS_OF_SUPPLY', 'VENDOR', 'STATUS FLAG', 'SUPPLY GAP FLAG'\n",
    "]]\n",
    "critical_df.head()"
   ]
  },
  {
   "cell_type": "markdown",
   "id": "36da4dc9",
   "metadata": {},
   "source": [
    "## 📈 Step 5: Visualize Top 10 Critical Inventory by Value"
   ]
  },
  {
   "cell_type": "code",
   "execution_count": null,
   "id": "05fa87c8",
   "metadata": {},
   "outputs": [],
   "source": [
    "top_critical_by_value = df[df['CRITICAL_ALERT'] == True]\n",
    "top_critical_by_value = top_critical_by_value.sort_values(by='INVENTORY VALUE', ascending=False).head(10)\n",
    "plt.figure(figsize=(10,6))\n",
    "sns.barplot(data=top_critical_by_value, x='INVENTORY VALUE', y='PART NAME', hue='VENDOR')\n",
    "plt.title('Top 10 Critical Inventory by Value')\n",
    "plt.xlabel('Inventory Value ($)')\n",
    "plt.ylabel('Part Name')\n",
    "plt.tight_layout()\n",
    "plt.show()"
   ]
  },
  {
   "cell_type": "markdown",
   "id": "c7524fd5",
   "metadata": {},
   "source": [
    "## 💾 Step 6: Export Critical Alerts to Excel"
   ]
  },
  {
   "cell_type": "code",
   "execution_count": null,
   "id": "ff3f44f0",
   "metadata": {},
   "outputs": [],
   "source": [
    "output_path = '../output/critical_inventory_alerts.xlsx'\n",
    "critical_df.to_excel(output_path, index=False)\n",
    "print(f'Critical Inventory Alerts exported to: {output_path}')"
   ]
  }
 ],
 "metadata": {},
 "nbformat": 4,
 "nbformat_minor": 5
}
